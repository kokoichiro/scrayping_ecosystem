{
 "cells": [
  {
   "cell_type": "code",
   "execution_count": 1,
   "metadata": {},
   "outputs": [],
   "source": [
    "import pandas as pd\n",
    "import requests\n",
    "from collections import OrderedDict\n",
    "import numpy as np\n"
   ]
  },
  {
   "cell_type": "code",
   "execution_count": 49,
   "metadata": {},
   "outputs": [],
   "source": [
    "url = 'https://baseballxxxxxx.jp/npb/game/2019032901/stats'\n",
    "url2='https://baseballxxxx.jp/npb/game/2019040306/stats'\n",
    "datasets = pd.io.html.read_html(url)\n"
   ]
  },
  {
   "cell_type": "code",
   "execution_count": 50,
   "metadata": {},
   "outputs": [],
   "source": [
    "result_df=datasets[0]"
   ]
  },
  {
   "cell_type": "code",
   "execution_count": 51,
   "metadata": {},
   "outputs": [],
   "source": [
    "away_team=result_df.loc[0,'Unnamed: 0']\n",
    "home_team=result_df.loc[1,'Unnamed: 0']\n"
   ]
  },
  {
   "cell_type": "code",
   "execution_count": 52,
   "metadata": {},
   "outputs": [],
   "source": []
  },
  {
   "cell_type": "code",
   "execution_count": 76,
   "metadata": {},
   "outputs": [],
   "source": [
    "def cleanse_batting_data(df,team):\n",
    "    batting_columns=['position','name','AVG','AB','Run','Hit','RBI','SO','BB','BANT','SB','Error','HR','1th','2nd','3rd','4th','5th','6th','7th','8th','9th','10th','11th','12th']\n",
    "    df2=df[0:-1]\n",
    "    for i in range(25-len(df2.columns)):\n",
    "        col_name='col_'+str(i)\n",
    "        df2.loc[:,col_name]='NaN'\n",
    "    df2.columns=batting_columns\n",
    "    df2[\"team\"]=team\n",
    "    return df2\n",
    "    \n",
    "def cleanse_pitching_data(df,team):\n",
    "    pitching_columns=['result','name','ERA','InningPithced','NumBalls','NumBatter','Hit','HR','SO','BB','HB','Run','Earned Run']\n",
    "    df.columns=pitching_columns\n",
    "    df[\"team\"]=team\n",
    "    return df"
   ]
  },
  {
   "cell_type": "code",
   "execution_count": 72,
   "metadata": {},
   "outputs": [
    {
     "name": "stderr",
     "output_type": "stream",
     "text": [
      "/home/dev-cory/.local/share/virtualenvs/scrayping-kXGQKy4p/lib/python2.7/site-packages/ipykernel_launcher.py:8: SettingWithCopyWarning: \n",
      "A value is trying to be set on a copy of a slice from a DataFrame.\n",
      "Try using .loc[row_indexer,col_indexer] = value instead\n",
      "\n",
      "See the caveats in the documentation: http://pandas.pydata.org/pandas-docs/stable/indexing.html#indexing-view-versus-copy\n",
      "  \n"
     ]
    }
   ],
   "source": [
    "df_away_batting=cleanse_batting_data(datasets[1],away_team)\n",
    "df_home_batting=cleanse_batting_data(datasets[4],home_team)"
   ]
  },
  {
   "cell_type": "code",
   "execution_count": 77,
   "metadata": {},
   "outputs": [],
   "source": [
    "df_away_pitching=cleanse_pitching_data(datasets[5],away_team)"
   ]
  },
  {
   "cell_type": "code",
   "execution_count": 78,
   "metadata": {},
   "outputs": [],
   "source": [
    "df_away_pitching=cleanse_pitching_data(datasets[6],home_team)"
   ]
  },
  {
   "cell_type": "code",
   "execution_count": 82,
   "metadata": {},
   "outputs": [],
   "source": [
    "df_batting=pd.concat([df_home_batting,df_away_batting],axis=0,sort=False)\n",
    "df_pitching=pd.concat([df_home_pitching,df_away_pitching],axis=0,sort=False)"
   ]
  },
  {
   "cell_type": "code",
   "execution_count": null,
   "metadata": {},
   "outputs": [],
   "source": []
  }
 ],
 "metadata": {
  "kernelspec": {
   "display_name": "Python 2",
   "language": "python",
   "name": "python2"
  },
  "language_info": {
   "codemirror_mode": {
    "name": "ipython",
    "version": 2
   },
   "file_extension": ".py",
   "mimetype": "text/x-python",
   "name": "python",
   "nbconvert_exporter": "python",
   "pygments_lexer": "ipython2",
   "version": "2.7.13"
  }
 },
 "nbformat": 4,
 "nbformat_minor": 2
}
